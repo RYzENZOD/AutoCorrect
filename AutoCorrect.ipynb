{
 "cells": [
  {
   "cell_type": "code",
   "execution_count": 1,
   "metadata": {},
   "outputs": [
    {
     "name": "stdout",
     "output_type": "stream",
     "text": [
      "Original Word: oraneg\n",
      "Corrected (difflib): orange\n",
      "Corrected (spellchecker): orange\n"
     ]
    }
   ],
   "source": [
    "import difflib\n",
    "from spellchecker import SpellChecker\n",
    "\n",
    "# Correct a word using difflib\n",
    "def correct_word_difflib(word, word_list):\n",
    "    corrected = difflib.get_close_matches(word, word_list, n=1)\n",
    "    return corrected[0] if corrected else None\n",
    "\n",
    "# Correct a word using spellchecker\n",
    "def correct_word_spellchecker(word, language='en'):\n",
    "    spell = SpellChecker(language=language)\n",
    "    corrected = spell.correction(word)\n",
    "    return corrected\n",
    "\n",
    "# List of words for testing\n",
    "word_list = ['apple', 'banana', 'cherry', 'grape', 'orange', 'pear', 'strawberry']\n",
    "\n",
    "# Test corrections\n",
    "word_to_correct = 'oraneg'\n",
    "corrected_difflib = correct_word_difflib(word_to_correct, word_list)\n",
    "corrected_spellchecker = correct_word_spellchecker(word_to_correct)\n",
    "\n",
    "print(\"Original Word:\", word_to_correct)\n",
    "print(\"Corrected (difflib):\", corrected_difflib)\n",
    "print(\"Corrected (spellchecker):\", corrected_spellchecker)\n"
   ]
  }
 ],
 "metadata": {
  "kernelspec": {
   "display_name": "Python 3",
   "language": "python",
   "name": "python3"
  },
  "language_info": {
   "codemirror_mode": {
    "name": "ipython",
    "version": 3
   },
   "file_extension": ".py",
   "mimetype": "text/x-python",
   "name": "python",
   "nbconvert_exporter": "python",
   "pygments_lexer": "ipython3",
   "version": "3.11.4"
  },
  "orig_nbformat": 4
 },
 "nbformat": 4,
 "nbformat_minor": 2
}
